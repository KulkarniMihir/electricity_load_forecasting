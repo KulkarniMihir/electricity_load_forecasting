{
 "cells": [
  {
   "cell_type": "code",
   "execution_count": 1,
   "id": "ee31f71c",
   "metadata": {
    "_cell_guid": "b1076dfc-b9ad-4769-8c92-a6c4dae69d19",
    "_uuid": "8f2839f25d086af736a60e9eeb907d3b93b6e0e5",
    "execution": {
     "iopub.execute_input": "2024-07-20T08:20:19.099671Z",
     "iopub.status.busy": "2024-07-20T08:20:19.099213Z",
     "iopub.status.idle": "2024-07-20T08:20:20.117302Z",
     "shell.execute_reply": "2024-07-20T08:20:20.115573Z"
    },
    "papermill": {
     "duration": 1.029501,
     "end_time": "2024-07-20T08:20:20.120364",
     "exception": false,
     "start_time": "2024-07-20T08:20:19.090863",
     "status": "completed"
    },
    "tags": []
   },
   "outputs": [
    {
     "name": "stdout",
     "output_type": "stream",
     "text": [
      "/kaggle/input/electricity-load-forecasting/train_dataframes.xlsx\n",
      "/kaggle/input/electricity-load-forecasting/continuous dataset.csv\n",
      "/kaggle/input/electricity-load-forecasting/test_dataframes.xlsx\n",
      "/kaggle/input/electricity-load-forecasting/weekly pre-dispatch forecast.csv\n"
     ]
    }
   ],
   "source": [
    "# This Python 3 environment comes with many helpful analytics libraries installed\n",
    "# It is defined by the kaggle/python Docker image: https://github.com/kaggle/docker-python\n",
    "# For example, here's several helpful packages to load\n",
    "\n",
    "import numpy as np # linear algebra\n",
    "import pandas as pd # data processing, CSV file I/O (e.g. pd.read_csv)\n",
    "\n",
    "# Input data files are available in the read-only \"../input/\" directory\n",
    "# For example, running this (by clicking run or pressing Shift+Enter) will list all files under the input directory\n",
    "\n",
    "import os\n",
    "for dirname, _, filenames in os.walk('/kaggle/input'):\n",
    "    for filename in filenames:\n",
    "        print(os.path.join(dirname, filename))\n",
    "\n",
    "# You can write up to 20GB to the current directory (/kaggle/working/) that gets preserved as output when you create a version using \"Save & Run All\" \n",
    "# You can also write temporary files to /kaggle/temp/, but they won't be saved outside of the current session"
   ]
  },
  {
   "cell_type": "markdown",
   "id": "5d0b4120",
   "metadata": {
    "papermill": {
     "duration": 0.005874,
     "end_time": "2024-07-20T08:20:20.133036",
     "exception": false,
     "start_time": "2024-07-20T08:20:20.127162",
     "status": "completed"
    },
    "tags": []
   },
   "source": [
    "## Load Data"
   ]
  },
  {
   "cell_type": "code",
   "execution_count": 2,
   "id": "dc27940a",
   "metadata": {
    "execution": {
     "iopub.execute_input": "2024-07-20T08:20:20.146669Z",
     "iopub.status.busy": "2024-07-20T08:20:20.146147Z",
     "iopub.status.idle": "2024-07-20T08:20:20.544405Z",
     "shell.execute_reply": "2024-07-20T08:20:20.542785Z"
    },
    "papermill": {
     "duration": 0.409,
     "end_time": "2024-07-20T08:20:20.547980",
     "exception": false,
     "start_time": "2024-07-20T08:20:20.138980",
     "status": "completed"
    },
    "tags": []
   },
   "outputs": [
    {
     "data": {
      "text/html": [
       "<div>\n",
       "<style scoped>\n",
       "    .dataframe tbody tr th:only-of-type {\n",
       "        vertical-align: middle;\n",
       "    }\n",
       "\n",
       "    .dataframe tbody tr th {\n",
       "        vertical-align: top;\n",
       "    }\n",
       "\n",
       "    .dataframe thead th {\n",
       "        text-align: right;\n",
       "    }\n",
       "</style>\n",
       "<table border=\"1\" class=\"dataframe\">\n",
       "  <thead>\n",
       "    <tr style=\"text-align: right;\">\n",
       "      <th></th>\n",
       "      <th>nat_demand</th>\n",
       "      <th>T2M_toc</th>\n",
       "      <th>QV2M_toc</th>\n",
       "      <th>TQL_toc</th>\n",
       "      <th>W2M_toc</th>\n",
       "      <th>T2M_san</th>\n",
       "      <th>QV2M_san</th>\n",
       "      <th>TQL_san</th>\n",
       "      <th>W2M_san</th>\n",
       "      <th>T2M_dav</th>\n",
       "      <th>QV2M_dav</th>\n",
       "      <th>TQL_dav</th>\n",
       "      <th>W2M_dav</th>\n",
       "      <th>Holiday_ID</th>\n",
       "      <th>holiday</th>\n",
       "      <th>school</th>\n",
       "    </tr>\n",
       "    <tr>\n",
       "      <th>datetime</th>\n",
       "      <th></th>\n",
       "      <th></th>\n",
       "      <th></th>\n",
       "      <th></th>\n",
       "      <th></th>\n",
       "      <th></th>\n",
       "      <th></th>\n",
       "      <th></th>\n",
       "      <th></th>\n",
       "      <th></th>\n",
       "      <th></th>\n",
       "      <th></th>\n",
       "      <th></th>\n",
       "      <th></th>\n",
       "      <th></th>\n",
       "      <th></th>\n",
       "    </tr>\n",
       "  </thead>\n",
       "  <tbody>\n",
       "    <tr>\n",
       "      <th>2015-01-03 01:00:00</th>\n",
       "      <td>970.3450</td>\n",
       "      <td>25.865259</td>\n",
       "      <td>0.018576</td>\n",
       "      <td>0.016174</td>\n",
       "      <td>21.850546</td>\n",
       "      <td>23.482446</td>\n",
       "      <td>0.017272</td>\n",
       "      <td>0.001855</td>\n",
       "      <td>10.328949</td>\n",
       "      <td>22.662134</td>\n",
       "      <td>0.016562</td>\n",
       "      <td>0.096100</td>\n",
       "      <td>5.364148</td>\n",
       "      <td>0</td>\n",
       "      <td>0</td>\n",
       "      <td>0</td>\n",
       "    </tr>\n",
       "    <tr>\n",
       "      <th>2015-01-03 02:00:00</th>\n",
       "      <td>912.1755</td>\n",
       "      <td>25.899255</td>\n",
       "      <td>0.018653</td>\n",
       "      <td>0.016418</td>\n",
       "      <td>22.166944</td>\n",
       "      <td>23.399255</td>\n",
       "      <td>0.017265</td>\n",
       "      <td>0.001327</td>\n",
       "      <td>10.681517</td>\n",
       "      <td>22.578943</td>\n",
       "      <td>0.016509</td>\n",
       "      <td>0.087646</td>\n",
       "      <td>5.572471</td>\n",
       "      <td>0</td>\n",
       "      <td>0</td>\n",
       "      <td>0</td>\n",
       "    </tr>\n",
       "    <tr>\n",
       "      <th>2015-01-03 03:00:00</th>\n",
       "      <td>900.2688</td>\n",
       "      <td>25.937280</td>\n",
       "      <td>0.018768</td>\n",
       "      <td>0.015480</td>\n",
       "      <td>22.454911</td>\n",
       "      <td>23.343530</td>\n",
       "      <td>0.017211</td>\n",
       "      <td>0.001428</td>\n",
       "      <td>10.874924</td>\n",
       "      <td>22.531030</td>\n",
       "      <td>0.016479</td>\n",
       "      <td>0.078735</td>\n",
       "      <td>5.871184</td>\n",
       "      <td>0</td>\n",
       "      <td>0</td>\n",
       "      <td>0</td>\n",
       "    </tr>\n",
       "    <tr>\n",
       "      <th>2015-01-03 04:00:00</th>\n",
       "      <td>889.9538</td>\n",
       "      <td>25.957544</td>\n",
       "      <td>0.018890</td>\n",
       "      <td>0.016273</td>\n",
       "      <td>22.110481</td>\n",
       "      <td>23.238794</td>\n",
       "      <td>0.017128</td>\n",
       "      <td>0.002599</td>\n",
       "      <td>10.518620</td>\n",
       "      <td>22.512231</td>\n",
       "      <td>0.016487</td>\n",
       "      <td>0.068390</td>\n",
       "      <td>5.883621</td>\n",
       "      <td>0</td>\n",
       "      <td>0</td>\n",
       "      <td>0</td>\n",
       "    </tr>\n",
       "    <tr>\n",
       "      <th>2015-01-03 05:00:00</th>\n",
       "      <td>893.6865</td>\n",
       "      <td>25.973840</td>\n",
       "      <td>0.018981</td>\n",
       "      <td>0.017281</td>\n",
       "      <td>21.186089</td>\n",
       "      <td>23.075403</td>\n",
       "      <td>0.017059</td>\n",
       "      <td>0.001729</td>\n",
       "      <td>9.733589</td>\n",
       "      <td>22.481653</td>\n",
       "      <td>0.016456</td>\n",
       "      <td>0.064362</td>\n",
       "      <td>5.611724</td>\n",
       "      <td>0</td>\n",
       "      <td>0</td>\n",
       "      <td>0</td>\n",
       "    </tr>\n",
       "  </tbody>\n",
       "</table>\n",
       "</div>"
      ],
      "text/plain": [
       "                     nat_demand    T2M_toc  QV2M_toc   TQL_toc    W2M_toc  \\\n",
       "datetime                                                                    \n",
       "2015-01-03 01:00:00    970.3450  25.865259  0.018576  0.016174  21.850546   \n",
       "2015-01-03 02:00:00    912.1755  25.899255  0.018653  0.016418  22.166944   \n",
       "2015-01-03 03:00:00    900.2688  25.937280  0.018768  0.015480  22.454911   \n",
       "2015-01-03 04:00:00    889.9538  25.957544  0.018890  0.016273  22.110481   \n",
       "2015-01-03 05:00:00    893.6865  25.973840  0.018981  0.017281  21.186089   \n",
       "\n",
       "                       T2M_san  QV2M_san   TQL_san    W2M_san    T2M_dav  \\\n",
       "datetime                                                                   \n",
       "2015-01-03 01:00:00  23.482446  0.017272  0.001855  10.328949  22.662134   \n",
       "2015-01-03 02:00:00  23.399255  0.017265  0.001327  10.681517  22.578943   \n",
       "2015-01-03 03:00:00  23.343530  0.017211  0.001428  10.874924  22.531030   \n",
       "2015-01-03 04:00:00  23.238794  0.017128  0.002599  10.518620  22.512231   \n",
       "2015-01-03 05:00:00  23.075403  0.017059  0.001729   9.733589  22.481653   \n",
       "\n",
       "                     QV2M_dav   TQL_dav   W2M_dav  Holiday_ID  holiday  school  \n",
       "datetime                                                                        \n",
       "2015-01-03 01:00:00  0.016562  0.096100  5.364148           0        0       0  \n",
       "2015-01-03 02:00:00  0.016509  0.087646  5.572471           0        0       0  \n",
       "2015-01-03 03:00:00  0.016479  0.078735  5.871184           0        0       0  \n",
       "2015-01-03 04:00:00  0.016487  0.068390  5.883621           0        0       0  \n",
       "2015-01-03 05:00:00  0.016456  0.064362  5.611724           0        0       0  "
      ]
     },
     "execution_count": 2,
     "metadata": {},
     "output_type": "execute_result"
    }
   ],
   "source": [
    "import pandas as pd\n",
    "df= pd.read_csv('../input/electricity-load-forecasting/continuous dataset.csv', index_col=[0], parse_dates=[0])\n",
    "df.head()"
   ]
  },
  {
   "cell_type": "code",
   "execution_count": 3,
   "id": "a0dd2853",
   "metadata": {
    "execution": {
     "iopub.execute_input": "2024-07-20T08:20:20.562415Z",
     "iopub.status.busy": "2024-07-20T08:20:20.562040Z",
     "iopub.status.idle": "2024-07-20T08:20:24.103950Z",
     "shell.execute_reply": "2024-07-20T08:20:24.102701Z"
    },
    "papermill": {
     "duration": 3.552229,
     "end_time": "2024-07-20T08:20:24.106618",
     "exception": false,
     "start_time": "2024-07-20T08:20:20.554389",
     "status": "completed"
    },
    "tags": []
   },
   "outputs": [
    {
     "data": {
      "text/plain": [
       "<Axes: xlabel='datetime'>"
      ]
     },
     "execution_count": 3,
     "metadata": {},
     "output_type": "execute_result"
    },
    {
     "data": {
      "image/png": "[encoded data removed]",
      "text/plain": [
       "<Figure size 640x480 with 1 Axes>"
      ]
     },
     "metadata": {},
     "output_type": "display_data"
    }
   ],
   "source": [
    "df['nat_demand'].plot()"
   ]
  },
  {
   "cell_type": "markdown",
   "id": "f76fbfde",
   "metadata": {
    "papermill": {
     "duration": 0.006814,
     "end_time": "2024-07-20T08:20:24.120842",
     "exception": false,
     "start_time": "2024-07-20T08:20:24.114028",
     "status": "completed"
    },
    "tags": []
   },
   "source": [
    "## Generate Time-Series Data"
   ]
  },
  {
   "cell_type": "code",
   "execution_count": 4,
   "id": "3c2f3d94",
   "metadata": {
    "execution": {
     "iopub.execute_input": "2024-07-20T08:20:24.136807Z",
     "iopub.status.busy": "2024-07-20T08:20:24.136377Z",
     "iopub.status.idle": "2024-07-20T08:20:24.209612Z",
     "shell.execute_reply": "2024-07-20T08:20:24.208371Z"
    },
    "papermill": {
     "duration": 0.085313,
     "end_time": "2024-07-20T08:20:24.212963",
     "exception": false,
     "start_time": "2024-07-20T08:20:24.127650",
     "status": "completed"
    },
    "tags": []
   },
   "outputs": [],
   "source": [
    "from pandas.api.types import CategoricalDtype\n",
    "\n",
    "cat_type = CategoricalDtype(categories=['Monday', 'Tuesday', 'Wednesday', 'Thursday', 'Friday', 'Saturday', 'Sunday'], ordered=True)\n",
    "\n",
    "def create_timeseries_features(df, label=None):\n",
    "    df = df.copy()\n",
    "    df['date'] = df.index\n",
    "    df['hour'] = df['date'].dt.hour\n",
    "    df['dayofweek'] = df['date'].dt.dayofweek\n",
    "    df['weekday'] = df['date'].dt.day_name()\n",
    "    df['weekday'] = df['weekday'].astype(cat_type)\n",
    "    df['year'] = df['date'].dt.year\n",
    "    df['quarter'] = df['date'].dt.quarter\n",
    "    df['month'] = df['date'].dt.month\n",
    "    df['dayofyear'] = df['date'].dt.dayofyear\n",
    "    df['dayofmonth'] = df['date'].dt.day\n",
    "    df['weekofyear'] = df['date'].dt.isocalendar().week  # Use isocalendar().week\n",
    "    df['date_offset'] = (df.date.dt.month * 100 + df.date.dt.day - 320) % 1300\n",
    "\n",
    "    df['season'] = pd.cut(df['date_offset'], [0, 300, 602, 900, 1300], labels=['Spring', 'Summer', 'Fall', 'Winter'])\n",
    "    X = df[['hour', 'dayofweek', 'quarter', 'month', 'year', 'dayofyear', 'dayofmonth', 'weekofyear', 'weekday', 'season']]\n",
    "    if label:\n",
    "        y = df[label]\n",
    "        return X, y\n",
    "    return X\n",
    "\n",
    "X, y = create_timeseries_features(df, label='nat_demand')\n",
    "features_and_target = pd.concat([X, y], axis=1)"
   ]
  },
  {
   "cell_type": "code",
   "execution_count": 5,
   "id": "52c19718",
   "metadata": {
    "execution": {
     "iopub.execute_input": "2024-07-20T08:20:24.230067Z",
     "iopub.status.busy": "2024-07-20T08:20:24.229655Z",
     "iopub.status.idle": "2024-07-20T08:20:24.246740Z",
     "shell.execute_reply": "2024-07-20T08:20:24.245536Z"
    },
    "papermill": {
     "duration": 0.028059,
     "end_time": "2024-07-20T08:20:24.249079",
     "exception": false,
     "start_time": "2024-07-20T08:20:24.221020",
     "status": "completed"
    },
    "tags": []
   },
   "outputs": [
    {
     "data": {
      "text/html": [
       "<div>\n",
       "<style scoped>\n",
       "    .dataframe tbody tr th:only-of-type {\n",
       "        vertical-align: middle;\n",
       "    }\n",
       "\n",
       "    .dataframe tbody tr th {\n",
       "        vertical-align: top;\n",
       "    }\n",
       "\n",
       "    .dataframe thead th {\n",
       "        text-align: right;\n",
       "    }\n",
       "</style>\n",
       "<table border=\"1\" class=\"dataframe\">\n",
       "  <thead>\n",
       "    <tr style=\"text-align: right;\">\n",
       "      <th></th>\n",
       "      <th>hour</th>\n",
       "      <th>dayofweek</th>\n",
       "      <th>quarter</th>\n",
       "      <th>month</th>\n",
       "      <th>year</th>\n",
       "      <th>dayofyear</th>\n",
       "      <th>dayofmonth</th>\n",
       "      <th>weekofyear</th>\n",
       "      <th>weekday</th>\n",
       "      <th>season</th>\n",
       "      <th>nat_demand</th>\n",
       "    </tr>\n",
       "    <tr>\n",
       "      <th>datetime</th>\n",
       "      <th></th>\n",
       "      <th></th>\n",
       "      <th></th>\n",
       "      <th></th>\n",
       "      <th></th>\n",
       "      <th></th>\n",
       "      <th></th>\n",
       "      <th></th>\n",
       "      <th></th>\n",
       "      <th></th>\n",
       "      <th></th>\n",
       "    </tr>\n",
       "  </thead>\n",
       "  <tbody>\n",
       "    <tr>\n",
       "      <th>2015-01-03 01:00:00</th>\n",
       "      <td>1</td>\n",
       "      <td>5</td>\n",
       "      <td>1</td>\n",
       "      <td>1</td>\n",
       "      <td>2015</td>\n",
       "      <td>3</td>\n",
       "      <td>3</td>\n",
       "      <td>1</td>\n",
       "      <td>Saturday</td>\n",
       "      <td>Winter</td>\n",
       "      <td>970.3450</td>\n",
       "    </tr>\n",
       "    <tr>\n",
       "      <th>2015-01-03 02:00:00</th>\n",
       "      <td>2</td>\n",
       "      <td>5</td>\n",
       "      <td>1</td>\n",
       "      <td>1</td>\n",
       "      <td>2015</td>\n",
       "      <td>3</td>\n",
       "      <td>3</td>\n",
       "      <td>1</td>\n",
       "      <td>Saturday</td>\n",
       "      <td>Winter</td>\n",
       "      <td>912.1755</td>\n",
       "    </tr>\n",
       "    <tr>\n",
       "      <th>2015-01-03 03:00:00</th>\n",
       "      <td>3</td>\n",
       "      <td>5</td>\n",
       "      <td>1</td>\n",
       "      <td>1</td>\n",
       "      <td>2015</td>\n",
       "      <td>3</td>\n",
       "      <td>3</td>\n",
       "      <td>1</td>\n",
       "      <td>Saturday</td>\n",
       "      <td>Winter</td>\n",
       "      <td>900.2688</td>\n",
       "    </tr>\n",
       "    <tr>\n",
       "      <th>2015-01-03 04:00:00</th>\n",
       "      <td>4</td>\n",
       "      <td>5</td>\n",
       "      <td>1</td>\n",
       "      <td>1</td>\n",
       "      <td>2015</td>\n",
       "      <td>3</td>\n",
       "      <td>3</td>\n",
       "      <td>1</td>\n",
       "      <td>Saturday</td>\n",
       "      <td>Winter</td>\n",
       "      <td>889.9538</td>\n",
       "    </tr>\n",
       "    <tr>\n",
       "      <th>2015-01-03 05:00:00</th>\n",
       "      <td>5</td>\n",
       "      <td>5</td>\n",
       "      <td>1</td>\n",
       "      <td>1</td>\n",
       "      <td>2015</td>\n",
       "      <td>3</td>\n",
       "      <td>3</td>\n",
       "      <td>1</td>\n",
       "      <td>Saturday</td>\n",
       "      <td>Winter</td>\n",
       "      <td>893.6865</td>\n",
       "    </tr>\n",
       "  </tbody>\n",
       "</table>\n",
       "</div>"
      ],
      "text/plain": [
       "                     hour  dayofweek  quarter  month  year  dayofyear  \\\n",
       "datetime                                                                \n",
       "2015-01-03 01:00:00     1          5        1      1  2015          3   \n",
       "2015-01-03 02:00:00     2          5        1      1  2015          3   \n",
       "2015-01-03 03:00:00     3          5        1      1  2015          3   \n",
       "2015-01-03 04:00:00     4          5        1      1  2015          3   \n",
       "2015-01-03 05:00:00     5          5        1      1  2015          3   \n",
       "\n",
       "                     dayofmonth  weekofyear   weekday  season  nat_demand  \n",
       "datetime                                                                   \n",
       "2015-01-03 01:00:00           3           1  Saturday  Winter    970.3450  \n",
       "2015-01-03 02:00:00           3           1  Saturday  Winter    912.1755  \n",
       "2015-01-03 03:00:00           3           1  Saturday  Winter    900.2688  \n",
       "2015-01-03 04:00:00           3           1  Saturday  Winter    889.9538  \n",
       "2015-01-03 05:00:00           3           1  Saturday  Winter    893.6865  "
      ]
     },
     "execution_count": 5,
     "metadata": {},
     "output_type": "execute_result"
    }
   ],
   "source": [
    "features_and_target.head()"
   ]
  },
  {
   "cell_type": "code",
   "execution_count": 6,
   "id": "12f05ddf",
   "metadata": {
    "execution": {
     "iopub.execute_input": "2024-07-20T08:20:24.266211Z",
     "iopub.status.busy": "2024-07-20T08:20:24.265828Z",
     "iopub.status.idle": "2024-07-20T08:20:25.845964Z",
     "shell.execute_reply": "2024-07-20T08:20:25.844899Z"
    },
    "papermill": {
     "duration": 1.591858,
     "end_time": "2024-07-20T08:20:25.848805",
     "exception": false,
     "start_time": "2024-07-20T08:20:24.256947",
     "status": "completed"
    },
    "tags": []
   },
   "outputs": [],
   "source": [
    "import matplotlib.pyplot as plt\n",
    "import seaborn as sns\n",
    "sns.set(rc={'figure.figsize':(12, 5)})"
   ]
  },
  {
   "cell_type": "code",
   "execution_count": 7,
   "id": "56a6f6a3",
   "metadata": {
    "execution": {
     "iopub.execute_input": "2024-07-20T08:20:25.864872Z",
     "iopub.status.busy": "2024-07-20T08:20:25.864488Z",
     "iopub.status.idle": "2024-07-20T08:20:26.655777Z",
     "shell.execute_reply": "2024-07-20T08:20:26.654311Z"
    },
    "papermill": {
     "duration": 0.802581,
     "end_time": "2024-07-20T08:20:26.658683",
     "exception": false,
     "start_time": "2024-07-20T08:20:25.856102",
     "status": "completed"
    },
    "tags": []
   },
   "outputs": [
    {
     "name": "stderr",
     "output_type": "stream",
     "text": [
      "/opt/conda/lib/python3.10/site-packages/seaborn/categorical.py:641: FutureWarning: The default of observed=False is deprecated and will be changed to True in a future version of pandas. Pass observed=False to retain current behavior or observed=True to adopt the future default and silence this warning.\n",
      "  grouped_vals = vals.groupby(grouper)\n"
     ]
    },
    {
     "data": {
      "image/png": "[encoded data removed]",
      "text/plain": [
       "<Figure size 1200x500 with 1 Axes>"
      ]
     },
     "metadata": {},
     "output_type": "display_data"
    }
   ],
   "source": [
    "fig, ax = plt.subplots(figsize=(12, 5))\n",
    "sns.boxplot(data=features_and_target.dropna(), x='weekday', y='nat_demand', hue='season', ax=ax, linewidth=1)\n",
    "ax.set_title('Power Use MW by Day of Week')\n",
    "ax.set_xlabel('Day of Week')\n",
    "ax.set_ylabel('Energy (MW)')\n",
    "ax.legend(bbox_to_anchor=(1, 1))\n",
    "plt.show()"
   ]
  },
  {
   "cell_type": "code",
   "execution_count": 8,
   "id": "285a484d",
   "metadata": {
    "execution": {
     "iopub.execute_input": "2024-07-20T08:20:26.677005Z",
     "iopub.status.busy": "2024-07-20T08:20:26.676568Z",
     "iopub.status.idle": "2024-07-20T08:20:27.461116Z",
     "shell.execute_reply": "2024-07-20T08:20:27.459930Z"
    },
    "papermill": {
     "duration": 0.796623,
     "end_time": "2024-07-20T08:20:27.463485",
     "exception": false,
     "start_time": "2024-07-20T08:20:26.666862",
     "status": "completed"
    },
    "tags": []
   },
   "outputs": [
    {
     "name": "stderr",
     "output_type": "stream",
     "text": [
      "/opt/conda/lib/python3.10/site-packages/seaborn/categorical.py:641: FutureWarning: The default of observed=False is deprecated and will be changed to True in a future version of pandas. Pass observed=False to retain current behavior or observed=True to adopt the future default and silence this warning.\n",
      "  grouped_vals = vals.groupby(grouper)\n"
     ]
    },
    {
     "data": {
      "image/png": "[encoded data removed]",
      "text/plain": [
       "<Figure size 1200x500 with 1 Axes>"
      ]
     },
     "metadata": {},
     "output_type": "display_data"
    }
   ],
   "source": [
    "import pandas\n",
    "\n",
    "#Calculate the lower and upper bounds for outliers\n",
    "Q1 = df['nat_demand'].quantile(0.25)\n",
    "Q3 = df['nat_demand'].quantile(0.75)\n",
    "IQR = Q3 - Q1\n",
    "lower_bound = Q1 - 1.5*IQR\n",
    "upper_bound = Q3 + 1.5*IQR\n",
    "\n",
    "#Filter the DataFrame from target and exclude outliers\n",
    "filtered_df = features_and_target[(features_and_target['nat_demand'] >= lower_bound) & (features_and_target['nat_demand'] <= upper_bound)]\n",
    "\n",
    "# Create the boxplot with trimmed outliers\n",
    "fig, ax = plt.subplots(figsize = (12, 5))\n",
    "sns.boxplot(data=filtered_df.dropna(), x='weekday', y='nat_demand', hue='season', ax=ax, linewidth=1)\n",
    "ax.set_title('Power Use MW by Day of Week (Outliers Trimmed)')\n",
    "ax.set_xlabel('Day of Week')\n",
    "ax.set_ylabel('Energy (MW)')\n",
    "ax.legend(bbox_to_anchor=(1, 1))\n",
    "plt.show()"
   ]
  },
  {
   "cell_type": "code",
   "execution_count": 9,
   "id": "0d9a5ccd",
   "metadata": {
    "execution": {
     "iopub.execute_input": "2024-07-20T08:20:27.482795Z",
     "iopub.status.busy": "2024-07-20T08:20:27.482361Z",
     "iopub.status.idle": "2024-07-20T08:20:27.497401Z",
     "shell.execute_reply": "2024-07-20T08:20:27.496396Z"
    },
    "papermill": {
     "duration": 0.027346,
     "end_time": "2024-07-20T08:20:27.499623",
     "exception": false,
     "start_time": "2024-07-20T08:20:27.472277",
     "status": "completed"
    },
    "tags": []
   },
   "outputs": [
    {
     "data": {
      "text/html": [
       "<div>\n",
       "<style scoped>\n",
       "    .dataframe tbody tr th:only-of-type {\n",
       "        vertical-align: middle;\n",
       "    }\n",
       "\n",
       "    .dataframe tbody tr th {\n",
       "        vertical-align: top;\n",
       "    }\n",
       "\n",
       "    .dataframe thead th {\n",
       "        text-align: right;\n",
       "    }\n",
       "</style>\n",
       "<table border=\"1\" class=\"dataframe\">\n",
       "  <thead>\n",
       "    <tr style=\"text-align: right;\">\n",
       "      <th></th>\n",
       "      <th>hour</th>\n",
       "      <th>dayofweek</th>\n",
       "      <th>quarter</th>\n",
       "      <th>month</th>\n",
       "      <th>year</th>\n",
       "      <th>dayofyear</th>\n",
       "      <th>dayofmonth</th>\n",
       "      <th>weekofyear</th>\n",
       "      <th>weekday</th>\n",
       "      <th>season</th>\n",
       "    </tr>\n",
       "    <tr>\n",
       "      <th>datetime</th>\n",
       "      <th></th>\n",
       "      <th></th>\n",
       "      <th></th>\n",
       "      <th></th>\n",
       "      <th></th>\n",
       "      <th></th>\n",
       "      <th></th>\n",
       "      <th></th>\n",
       "      <th></th>\n",
       "      <th></th>\n",
       "    </tr>\n",
       "  </thead>\n",
       "  <tbody>\n",
       "    <tr>\n",
       "      <th>2015-01-03 01:00:00</th>\n",
       "      <td>1</td>\n",
       "      <td>5</td>\n",
       "      <td>1</td>\n",
       "      <td>1</td>\n",
       "      <td>2015</td>\n",
       "      <td>3</td>\n",
       "      <td>3</td>\n",
       "      <td>1</td>\n",
       "      <td>Saturday</td>\n",
       "      <td>Winter</td>\n",
       "    </tr>\n",
       "    <tr>\n",
       "      <th>2015-01-03 02:00:00</th>\n",
       "      <td>2</td>\n",
       "      <td>5</td>\n",
       "      <td>1</td>\n",
       "      <td>1</td>\n",
       "      <td>2015</td>\n",
       "      <td>3</td>\n",
       "      <td>3</td>\n",
       "      <td>1</td>\n",
       "      <td>Saturday</td>\n",
       "      <td>Winter</td>\n",
       "    </tr>\n",
       "    <tr>\n",
       "      <th>2015-01-03 03:00:00</th>\n",
       "      <td>3</td>\n",
       "      <td>5</td>\n",
       "      <td>1</td>\n",
       "      <td>1</td>\n",
       "      <td>2015</td>\n",
       "      <td>3</td>\n",
       "      <td>3</td>\n",
       "      <td>1</td>\n",
       "      <td>Saturday</td>\n",
       "      <td>Winter</td>\n",
       "    </tr>\n",
       "    <tr>\n",
       "      <th>2015-01-03 04:00:00</th>\n",
       "      <td>4</td>\n",
       "      <td>5</td>\n",
       "      <td>1</td>\n",
       "      <td>1</td>\n",
       "      <td>2015</td>\n",
       "      <td>3</td>\n",
       "      <td>3</td>\n",
       "      <td>1</td>\n",
       "      <td>Saturday</td>\n",
       "      <td>Winter</td>\n",
       "    </tr>\n",
       "    <tr>\n",
       "      <th>2015-01-03 05:00:00</th>\n",
       "      <td>5</td>\n",
       "      <td>5</td>\n",
       "      <td>1</td>\n",
       "      <td>1</td>\n",
       "      <td>2015</td>\n",
       "      <td>3</td>\n",
       "      <td>3</td>\n",
       "      <td>1</td>\n",
       "      <td>Saturday</td>\n",
       "      <td>Winter</td>\n",
       "    </tr>\n",
       "  </tbody>\n",
       "</table>\n",
       "</div>"
      ],
      "text/plain": [
       "                     hour  dayofweek  quarter  month  year  dayofyear  \\\n",
       "datetime                                                                \n",
       "2015-01-03 01:00:00     1          5        1      1  2015          3   \n",
       "2015-01-03 02:00:00     2          5        1      1  2015          3   \n",
       "2015-01-03 03:00:00     3          5        1      1  2015          3   \n",
       "2015-01-03 04:00:00     4          5        1      1  2015          3   \n",
       "2015-01-03 05:00:00     5          5        1      1  2015          3   \n",
       "\n",
       "                     dayofmonth  weekofyear   weekday  season  \n",
       "datetime                                                       \n",
       "2015-01-03 01:00:00           3           1  Saturday  Winter  \n",
       "2015-01-03 02:00:00           3           1  Saturday  Winter  \n",
       "2015-01-03 03:00:00           3           1  Saturday  Winter  \n",
       "2015-01-03 04:00:00           3           1  Saturday  Winter  \n",
       "2015-01-03 05:00:00           3           1  Saturday  Winter  "
      ]
     },
     "execution_count": 9,
     "metadata": {},
     "output_type": "execute_result"
    }
   ],
   "source": [
    "X.head()"
   ]
  },
  {
   "cell_type": "code",
   "execution_count": 10,
   "id": "59babcaf",
   "metadata": {
    "execution": {
     "iopub.execute_input": "2024-07-20T08:20:27.519259Z",
     "iopub.status.busy": "2024-07-20T08:20:27.518920Z",
     "iopub.status.idle": "2024-07-20T08:20:27.527206Z",
     "shell.execute_reply": "2024-07-20T08:20:27.526144Z"
    },
    "papermill": {
     "duration": 0.020723,
     "end_time": "2024-07-20T08:20:27.529510",
     "exception": false,
     "start_time": "2024-07-20T08:20:27.508787",
     "status": "completed"
    },
    "tags": []
   },
   "outputs": [
    {
     "data": {
      "text/plain": [
       "datetime\n",
       "2015-01-03 01:00:00    970.3450\n",
       "2015-01-03 02:00:00    912.1755\n",
       "2015-01-03 03:00:00    900.2688\n",
       "2015-01-03 04:00:00    889.9538\n",
       "2015-01-03 05:00:00    893.6865\n",
       "Name: nat_demand, dtype: float64"
      ]
     },
     "execution_count": 10,
     "metadata": {},
     "output_type": "execute_result"
    }
   ],
   "source": [
    "y.head()"
   ]
  },
  {
   "cell_type": "code",
   "execution_count": 11,
   "id": "fe701764",
   "metadata": {
    "execution": {
     "iopub.execute_input": "2024-07-20T08:20:27.550555Z",
     "iopub.status.busy": "2024-07-20T08:20:27.549426Z",
     "iopub.status.idle": "2024-07-20T08:20:27.820099Z",
     "shell.execute_reply": "2024-07-20T08:20:27.818981Z"
    },
    "papermill": {
     "duration": 0.283963,
     "end_time": "2024-07-20T08:20:27.822764",
     "exception": false,
     "start_time": "2024-07-20T08:20:27.538801",
     "status": "completed"
    },
    "tags": []
   },
   "outputs": [],
   "source": [
    "file_path = 'features_and_target.csv'\n",
    "filtered_df.to_csv(file_path, index=False)"
   ]
  },
  {
   "cell_type": "code",
   "execution_count": 12,
   "id": "463111cb",
   "metadata": {
    "execution": {
     "iopub.execute_input": "2024-07-20T08:20:27.843886Z",
     "iopub.status.busy": "2024-07-20T08:20:27.843523Z",
     "iopub.status.idle": "2024-07-20T08:20:28.309163Z",
     "shell.execute_reply": "2024-07-20T08:20:28.307847Z"
    },
    "papermill": {
     "duration": 0.479646,
     "end_time": "2024-07-20T08:20:28.312312",
     "exception": false,
     "start_time": "2024-07-20T08:20:27.832666",
     "status": "completed"
    },
    "tags": []
   },
   "outputs": [],
   "source": [
    "from sklearn.model_selection import train_test_split\n",
    "from sklearn.linear_model import LinearRegression\n",
    "from sklearn.metrics import mean_squared_error, r2_score\n",
    "from sklearn.preprocessing import MinMaxScaler"
   ]
  },
  {
   "cell_type": "code",
   "execution_count": 13,
   "id": "db53eee8",
   "metadata": {
    "execution": {
     "iopub.execute_input": "2024-07-20T08:20:28.333637Z",
     "iopub.status.busy": "2024-07-20T08:20:28.333222Z",
     "iopub.status.idle": "2024-07-20T08:20:28.350359Z",
     "shell.execute_reply": "2024-07-20T08:20:28.349230Z"
    },
    "papermill": {
     "duration": 0.030938,
     "end_time": "2024-07-20T08:20:28.353090",
     "exception": false,
     "start_time": "2024-07-20T08:20:28.322152",
     "status": "completed"
    },
    "tags": []
   },
   "outputs": [
    {
     "data": {
      "text/html": [
       "<div>\n",
       "<style scoped>\n",
       "    .dataframe tbody tr th:only-of-type {\n",
       "        vertical-align: middle;\n",
       "    }\n",
       "\n",
       "    .dataframe tbody tr th {\n",
       "        vertical-align: top;\n",
       "    }\n",
       "\n",
       "    .dataframe thead th {\n",
       "        text-align: right;\n",
       "    }\n",
       "</style>\n",
       "<table border=\"1\" class=\"dataframe\">\n",
       "  <thead>\n",
       "    <tr style=\"text-align: right;\">\n",
       "      <th></th>\n",
       "      <th>hour</th>\n",
       "      <th>dayofweek</th>\n",
       "      <th>quarter</th>\n",
       "      <th>month</th>\n",
       "      <th>year</th>\n",
       "      <th>dayofyear</th>\n",
       "      <th>dayofmonth</th>\n",
       "      <th>weekofyear</th>\n",
       "      <th>weekday</th>\n",
       "      <th>season</th>\n",
       "      <th>nat_demand</th>\n",
       "    </tr>\n",
       "    <tr>\n",
       "      <th>datetime</th>\n",
       "      <th></th>\n",
       "      <th></th>\n",
       "      <th></th>\n",
       "      <th></th>\n",
       "      <th></th>\n",
       "      <th></th>\n",
       "      <th></th>\n",
       "      <th></th>\n",
       "      <th></th>\n",
       "      <th></th>\n",
       "      <th></th>\n",
       "    </tr>\n",
       "  </thead>\n",
       "  <tbody>\n",
       "    <tr>\n",
       "      <th>2015-01-03 01:00:00</th>\n",
       "      <td>1</td>\n",
       "      <td>5</td>\n",
       "      <td>1</td>\n",
       "      <td>1</td>\n",
       "      <td>2015</td>\n",
       "      <td>3</td>\n",
       "      <td>3</td>\n",
       "      <td>1</td>\n",
       "      <td>Saturday</td>\n",
       "      <td>Winter</td>\n",
       "      <td>970.3450</td>\n",
       "    </tr>\n",
       "    <tr>\n",
       "      <th>2015-01-03 02:00:00</th>\n",
       "      <td>2</td>\n",
       "      <td>5</td>\n",
       "      <td>1</td>\n",
       "      <td>1</td>\n",
       "      <td>2015</td>\n",
       "      <td>3</td>\n",
       "      <td>3</td>\n",
       "      <td>1</td>\n",
       "      <td>Saturday</td>\n",
       "      <td>Winter</td>\n",
       "      <td>912.1755</td>\n",
       "    </tr>\n",
       "    <tr>\n",
       "      <th>2015-01-03 03:00:00</th>\n",
       "      <td>3</td>\n",
       "      <td>5</td>\n",
       "      <td>1</td>\n",
       "      <td>1</td>\n",
       "      <td>2015</td>\n",
       "      <td>3</td>\n",
       "      <td>3</td>\n",
       "      <td>1</td>\n",
       "      <td>Saturday</td>\n",
       "      <td>Winter</td>\n",
       "      <td>900.2688</td>\n",
       "    </tr>\n",
       "    <tr>\n",
       "      <th>2015-01-03 04:00:00</th>\n",
       "      <td>4</td>\n",
       "      <td>5</td>\n",
       "      <td>1</td>\n",
       "      <td>1</td>\n",
       "      <td>2015</td>\n",
       "      <td>3</td>\n",
       "      <td>3</td>\n",
       "      <td>1</td>\n",
       "      <td>Saturday</td>\n",
       "      <td>Winter</td>\n",
       "      <td>889.9538</td>\n",
       "    </tr>\n",
       "    <tr>\n",
       "      <th>2015-01-03 05:00:00</th>\n",
       "      <td>5</td>\n",
       "      <td>5</td>\n",
       "      <td>1</td>\n",
       "      <td>1</td>\n",
       "      <td>2015</td>\n",
       "      <td>3</td>\n",
       "      <td>3</td>\n",
       "      <td>1</td>\n",
       "      <td>Saturday</td>\n",
       "      <td>Winter</td>\n",
       "      <td>893.6865</td>\n",
       "    </tr>\n",
       "  </tbody>\n",
       "</table>\n",
       "</div>"
      ],
      "text/plain": [
       "                     hour  dayofweek  quarter  month  year  dayofyear  \\\n",
       "datetime                                                                \n",
       "2015-01-03 01:00:00     1          5        1      1  2015          3   \n",
       "2015-01-03 02:00:00     2          5        1      1  2015          3   \n",
       "2015-01-03 03:00:00     3          5        1      1  2015          3   \n",
       "2015-01-03 04:00:00     4          5        1      1  2015          3   \n",
       "2015-01-03 05:00:00     5          5        1      1  2015          3   \n",
       "\n",
       "                     dayofmonth  weekofyear   weekday  season  nat_demand  \n",
       "datetime                                                                   \n",
       "2015-01-03 01:00:00           3           1  Saturday  Winter    970.3450  \n",
       "2015-01-03 02:00:00           3           1  Saturday  Winter    912.1755  \n",
       "2015-01-03 03:00:00           3           1  Saturday  Winter    900.2688  \n",
       "2015-01-03 04:00:00           3           1  Saturday  Winter    889.9538  \n",
       "2015-01-03 05:00:00           3           1  Saturday  Winter    893.6865  "
      ]
     },
     "execution_count": 13,
     "metadata": {},
     "output_type": "execute_result"
    }
   ],
   "source": [
    "df1 = filtered_df\n",
    "df1.head()"
   ]
  },
  {
   "cell_type": "code",
   "execution_count": 14,
   "id": "67999063",
   "metadata": {
    "execution": {
     "iopub.execute_input": "2024-07-20T08:20:28.374209Z",
     "iopub.status.busy": "2024-07-20T08:20:28.373855Z",
     "iopub.status.idle": "2024-07-20T08:20:28.452336Z",
     "shell.execute_reply": "2024-07-20T08:20:28.450968Z"
    },
    "papermill": {
     "duration": 0.092107,
     "end_time": "2024-07-20T08:20:28.454833",
     "exception": false,
     "start_time": "2024-07-20T08:20:28.362726",
     "status": "completed"
    },
    "tags": []
   },
   "outputs": [],
   "source": [
    "# Assuming df1 is your DataFrame\n",
    "# First, convert categorical variables to one-hot encoding\n",
    "df1 = pd.get_dummies(df1, columns=['weekday', 'season'])\n",
    "X = df1.drop('nat_demand', axis = 1)\n",
    "y = df1['nat_demand']\n",
    "# Now, perform MinMax scaling\n",
    "scaler = MinMaxScaler()\n",
    "X = scaler.fit_transform(X)"
   ]
  },
  {
   "cell_type": "code",
   "execution_count": 15,
   "id": "06081f0a",
   "metadata": {
    "execution": {
     "iopub.execute_input": "2024-07-20T08:20:28.476358Z",
     "iopub.status.busy": "2024-07-20T08:20:28.475557Z",
     "iopub.status.idle": "2024-07-20T08:20:28.484072Z",
     "shell.execute_reply": "2024-07-20T08:20:28.482876Z"
    },
    "papermill": {
     "duration": 0.021725,
     "end_time": "2024-07-20T08:20:28.486517",
     "exception": false,
     "start_time": "2024-07-20T08:20:28.464792",
     "status": "completed"
    },
    "tags": []
   },
   "outputs": [
    {
     "data": {
      "text/plain": [
       "array([[0.04347826, 0.83333333, 0.        , ..., 0.        , 0.        ,\n",
       "        1.        ],\n",
       "       [0.08695652, 0.83333333, 0.        , ..., 0.        , 0.        ,\n",
       "        1.        ],\n",
       "       [0.13043478, 0.83333333, 0.        , ..., 0.        , 0.        ,\n",
       "        1.        ],\n",
       "       ...,\n",
       "       [0.95652174, 0.66666667, 0.33333333, ..., 1.        , 0.        ,\n",
       "        0.        ],\n",
       "       [1.        , 0.66666667, 0.33333333, ..., 1.        , 0.        ,\n",
       "        0.        ],\n",
       "       [0.        , 0.83333333, 0.33333333, ..., 1.        , 0.        ,\n",
       "        0.        ]])"
      ]
     },
     "execution_count": 15,
     "metadata": {},
     "output_type": "execute_result"
    }
   ],
   "source": [
    "X"
   ]
  },
  {
   "cell_type": "code",
   "execution_count": 16,
   "id": "6320734d",
   "metadata": {
    "execution": {
     "iopub.execute_input": "2024-07-20T08:20:28.508435Z",
     "iopub.status.busy": "2024-07-20T08:20:28.508017Z",
     "iopub.status.idle": "2024-07-20T08:20:28.518434Z",
     "shell.execute_reply": "2024-07-20T08:20:28.517036Z"
    },
    "papermill": {
     "duration": 0.024874,
     "end_time": "2024-07-20T08:20:28.521061",
     "exception": false,
     "start_time": "2024-07-20T08:20:28.496187",
     "status": "completed"
    },
    "tags": []
   },
   "outputs": [
    {
     "data": {
      "text/plain": [
       "datetime\n",
       "2015-01-03 01:00:00     970.3450\n",
       "2015-01-03 02:00:00     912.1755\n",
       "2015-01-03 03:00:00     900.2688\n",
       "2015-01-03 04:00:00     889.9538\n",
       "2015-01-03 05:00:00     893.6865\n",
       "                         ...    \n",
       "2020-06-26 20:00:00    1128.5592\n",
       "2020-06-26 21:00:00    1112.7488\n",
       "2020-06-26 22:00:00    1081.5680\n",
       "2020-06-26 23:00:00    1041.6240\n",
       "2020-06-27 00:00:00    1013.5683\n",
       "Name: nat_demand, Length: 48041, dtype: float64"
      ]
     },
     "execution_count": 16,
     "metadata": {},
     "output_type": "execute_result"
    }
   ],
   "source": [
    "y"
   ]
  },
  {
   "cell_type": "markdown",
   "id": "4374fdb1",
   "metadata": {
    "papermill": {
     "duration": 0.009831,
     "end_time": "2024-07-20T08:20:28.540743",
     "exception": false,
     "start_time": "2024-07-20T08:20:28.530912",
     "status": "completed"
    },
    "tags": []
   },
   "source": [
    "## Initialize models"
   ]
  },
  {
   "cell_type": "code",
   "execution_count": 17,
   "id": "78f77e8f",
   "metadata": {
    "execution": {
     "iopub.execute_input": "2024-07-20T08:20:28.562520Z",
     "iopub.status.busy": "2024-07-20T08:20:28.562095Z",
     "iopub.status.idle": "2024-07-20T08:22:46.562480Z",
     "shell.execute_reply": "2024-07-20T08:22:46.561317Z"
    },
    "papermill": {
     "duration": 138.01418,
     "end_time": "2024-07-20T08:22:46.565151",
     "exception": false,
     "start_time": "2024-07-20T08:20:28.550971",
     "status": "completed"
    },
    "tags": []
   },
   "outputs": [
    {
     "name": "stdout",
     "output_type": "stream",
     "text": [
      "Model: Linear Regression\n",
      "RMSE: 170.9179351109396\n",
      "R-squared score: 0.1552388909921678\n",
      "--------------------\n",
      "Model: Decision Tree\n",
      "RMSE: 144.48172312070636\n",
      "R-squared score: 0.3963510328801284\n",
      "--------------------\n",
      "Model: Random Forest\n",
      "RMSE: 134.88411062324164\n",
      "R-squared score: 0.47388555943827415\n",
      "--------------------\n",
      "Model: Gradient Boosting\n",
      "RMSE: 127.29416365578132\n",
      "R-squared score: 0.5314287686170026\n",
      "--------------------\n",
      "Model: SVR\n",
      "RMSE: 165.65802749486647\n",
      "R-squared score: 0.20643298360725137\n",
      "--------------------\n",
      "Model: KNN\n",
      "RMSE: 144.4713124990982\n",
      "R-squared score: 0.3964380215238891\n",
      "--------------------\n"
     ]
    }
   ],
   "source": [
    "from sklearn.model_selection import train_test_split\n",
    "from sklearn.linear_model import LinearRegression\n",
    "from sklearn.tree import DecisionTreeRegressor\n",
    "from sklearn.ensemble import RandomForestRegressor, GradientBoostingRegressor\n",
    "from sklearn.svm import SVR\n",
    "from sklearn.neighbors import KNeighborsRegressor\n",
    "from sklearn.metrics import mean_squared_error, r2_score\n",
    "\n",
    "# Split the data into training and testing sets\n",
    "X_train, X_test, y_train, y_test = train_test_split(X, y, test_size=0.2, shuffle=False)\n",
    "\n",
    "#Initialise model\n",
    "models = [\n",
    "    (\"Linear Regression\", LinearRegression()),\n",
    "    (\"Decision Tree\", DecisionTreeRegressor()),\n",
    "    (\"Random Forest\", RandomForestRegressor()),\n",
    "    (\"Gradient Boosting\", GradientBoostingRegressor()),\n",
    "    (\"SVR\", SVR()),\n",
    "    (\"KNN\", KNeighborsRegressor())\n",
    "]\n",
    "\n",
    "for name, model in models:\n",
    "    model.fit(X_train, y_train)\n",
    "    \n",
    "    #Make predictions & evaluate model\n",
    "    predictions = model.predict(X_test)\n",
    "    rmse = mean_squared_error(y_test, predictions, squared=False)\n",
    "    r2 = r2_score(y_test, predictions)\n",
    "    print(f\"Model: {name}\")\n",
    "    print(f\"RMSE: {rmse}\")\n",
    "    print(f'R-squared score: {r2}')\n",
    "    print('-'*20)\n",
    "    "
   ]
  },
  {
   "cell_type": "code",
   "execution_count": 18,
   "id": "9c1ae1d3",
   "metadata": {
    "execution": {
     "iopub.execute_input": "2024-07-20T08:22:46.587085Z",
     "iopub.status.busy": "2024-07-20T08:22:46.586678Z",
     "iopub.status.idle": "2024-07-20T08:22:47.744184Z",
     "shell.execute_reply": "2024-07-20T08:22:47.742687Z"
    },
    "papermill": {
     "duration": 1.172942,
     "end_time": "2024-07-20T08:22:47.748249",
     "exception": false,
     "start_time": "2024-07-20T08:22:46.575307",
     "status": "completed"
    },
    "tags": []
   },
   "outputs": [
    {
     "name": "stdout",
     "output_type": "stream",
     "text": [
      "Model: Lasso Regression\n",
      "Root Mean Squared Error (RMSE): 170.60616179784125\n",
      "R-squared (R2) Score: 0.158317956484766\n",
      "--------------------\n",
      "Model: Ridge Regression\n",
      "Root Mean Squared Error (RMSE): 174.10043071271093\n",
      "R-squared (R2) Score: 0.12348706814718724\n",
      "--------------------\n",
      "Model: ElasticNet\n",
      "Root Mean Squared Error (RMSE): 181.0937999437399\n",
      "R-squared (R2) Score: 0.05165621935602005\n",
      "--------------------\n",
      "Model: Huber Regression\n",
      "Root Mean Squared Error (RMSE): 171.22491580100393\n",
      "R-squared (R2) Score: 0.1522016646023211\n",
      "--------------------\n",
      "Model: Bayesian Regression\n",
      "Root Mean Squared Error (RMSE): 174.206936970729\n",
      "R-squared (R2) Score: 0.12241432333123636\n",
      "--------------------\n"
     ]
    },
    {
     "name": "stderr",
     "output_type": "stream",
     "text": [
      "/opt/conda/lib/python3.10/site-packages/sklearn/linear_model/_huber.py:342: ConvergenceWarning: lbfgs failed to converge (status=1):\n",
      "STOP: TOTAL NO. of ITERATIONS REACHED LIMIT.\n",
      "\n",
      "Increase the number of iterations (max_iter) or scale the data as shown in:\n",
      "    https://scikit-learn.org/stable/modules/preprocessing.html\n",
      "  self.n_iter_ = _check_optimize_result(\"lbfgs\", opt_res, self.max_iter)\n"
     ]
    }
   ],
   "source": [
    "from sklearn.linear_model import LinearRegression, Lasso, Ridge, ElasticNet\n",
    "from sklearn.ensemble import GradientBoostingRegressor\n",
    "from sklearn.svm import SVR\n",
    "from sklearn.neighbors import KNeighborsRegressor\n",
    "from sklearn.gaussian_process import GaussianProcessRegressor\n",
    "from sklearn.linear_model import HuberRegressor, BayesianRidge\n",
    "from sklearn.metrics import mean_squared_error, r2_score\n",
    "\n",
    "#Split the data inot training and testing sets\n",
    "X_train, X_test,y_train, y_test = train_test_split(X, y, test_size=0.2, shuffle=False)\n",
    "\n",
    "#Initialise models\n",
    "models = [\n",
    "    (\"Lasso Regression\", Lasso()),\n",
    "    (\"Ridge Regression\", Ridge()),\n",
    "    (\"ElasticNet\", ElasticNet()),\n",
    "    (\"Huber Regression\", HuberRegressor()),\n",
    "    (\"Bayesian Regression\", BayesianRidge()),\n",
    "]\n",
    "\n",
    "for name, model in models:\n",
    "    model.fit(X_train, y_train)\n",
    "\n",
    "    # Make predictions and evaluate each model\n",
    "    predictions = model.predict(X_test)\n",
    "    rmse = mean_squared_error(y_test, predictions, squared=False)\n",
    "    r2 = r2_score(y_test, predictions)\n",
    "    print(f\"Model: {name}\")\n",
    "    print('Root Mean Squared Error (RMSE):', rmse)\n",
    "    print('R-squared (R2) Score:', r2)\n",
    "    print('-'*20)"
   ]
  },
  {
   "cell_type": "code",
   "execution_count": 19,
   "id": "3f986eeb",
   "metadata": {
    "execution": {
     "iopub.execute_input": "2024-07-20T08:22:47.815630Z",
     "iopub.status.busy": "2024-07-20T08:22:47.815114Z",
     "iopub.status.idle": "2024-07-20T08:27:20.254499Z",
     "shell.execute_reply": "2024-07-20T08:27:20.252606Z"
    },
    "papermill": {
     "duration": 272.493751,
     "end_time": "2024-07-20T08:27:20.268190",
     "exception": false,
     "start_time": "2024-07-20T08:22:47.774439",
     "status": "completed"
    },
    "tags": []
   },
   "outputs": [
    {
     "name": "stdout",
     "output_type": "stream",
     "text": [
      "Best Hyp:  {'learning_rate': 0.2, 'max_depth': 4, 'n_estimators': 50}\n",
      "RMSE:  127.5938217235444\n",
      "R2 score:  0.5292200826272158\n"
     ]
    }
   ],
   "source": [
    "from sklearn.model_selection import GridSearchCV\n",
    "from sklearn.ensemble import GradientBoostingRegressor\n",
    "\n",
    "#Define the hyperparameters and their possible values for tuning\n",
    "param_grid = {\n",
    "    'n_estimators': [50,100,200],\n",
    "    'learning_rate': [0.01, 0.1, 0.2],\n",
    "    'max_depth': [3, 4, 5]\n",
    "}\n",
    "\n",
    "#Create the GradientBoostingRegressor model\n",
    "model = GradientBoostingRegressor()\n",
    "\n",
    "#Create the GridSearchCV object\n",
    "grid_search = GridSearchCV(model, param_grid, cv=5, scoring='neg_mean_squared_error', n_jobs=-1)\n",
    "\n",
    "#Fit the GridSearchCV to the training data\n",
    "grid_search.fit(X_train, y_train)\n",
    "\n",
    "#Get the best hyp and the best estimator\n",
    "best_params = grid_search.best_params_\n",
    "best_model = grid_search.best_estimator_\n",
    "\n",
    "#Make predictions & evaluate best model\n",
    "predictions = best_model.predict(X_test)\n",
    "rmse = mean_squared_error(y_test, predictions, squared=False)\n",
    "r2 = r2_score(y_test, predictions)\n",
    "\n",
    "print(\"Best Hyp: \", best_params)\n",
    "print(\"RMSE: \", rmse)\n",
    "print('R2 score: ', r2)"
   ]
  },
  {
   "cell_type": "markdown",
   "id": "42fa6760",
   "metadata": {
    "papermill": {
     "duration": 0.009932,
     "end_time": "2024-07-20T08:27:20.288337",
     "exception": false,
     "start_time": "2024-07-20T08:27:20.278405",
     "status": "completed"
    },
    "tags": []
   },
   "source": [
    "**This is the best model after all experiments**"
   ]
  },
  {
   "cell_type": "code",
   "execution_count": null,
   "id": "9a7f5abc",
   "metadata": {
    "papermill": {
     "duration": 0.010111,
     "end_time": "2024-07-20T08:27:20.308766",
     "exception": false,
     "start_time": "2024-07-20T08:27:20.298655",
     "status": "completed"
    },
    "tags": []
   },
   "outputs": [],
   "source": []
  }
 ],
 "metadata": {
  "kaggle": {
   "accelerator": "none",
   "dataSources": [
    {
     "datasetId": 1307335,
     "sourceId": 2177559,
     "sourceType": "datasetVersion"
    }
   ],
   "dockerImageVersionId": 30746,
   "isGpuEnabled": false,
   "isInternetEnabled": true,
   "language": "python",
   "sourceType": "notebook"
  },
  "kernelspec": {
   "display_name": "Python 3",
   "language": "python",
   "name": "python3"
  },
  "language_info": {
   "codemirror_mode": {
    "name": "ipython",
    "version": 3
   },
   "file_extension": ".py",
   "mimetype": "text/x-python",
   "name": "python",
   "nbconvert_exporter": "python",
   "pygments_lexer": "ipython3",
   "version": "3.10.13"
  },
  "papermill": {
   "default_parameters": {},
   "duration": 426.862633,
   "end_time": "2024-07-20T08:27:22.942660",
   "environment_variables": {},
   "exception": null,
   "input_path": "__notebook__.ipynb",
   "output_path": "__notebook__.ipynb",
   "parameters": {},
   "start_time": "2024-07-20T08:20:16.080027",
   "version": "2.5.0"
  }
 },
 "nbformat": 4,
 "nbformat_minor": 5
}
